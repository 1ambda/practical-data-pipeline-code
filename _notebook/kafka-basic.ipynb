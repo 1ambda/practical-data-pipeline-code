{
 "cells": [
  {
   "cell_type": "markdown",
   "id": "3e86a47a-7483-47e1-9f60-de4b44061b55",
   "metadata": {},
   "source": [
    "## Kafka Library\n",
    "실행을 위해 다음 패키지 설치가 필요합니다.\n",
    "\n",
    "```\n",
    "pyenv activate pyspark \n",
    "\n",
    "pip install  kafka-python==2.0.2 msgpack==1.0.3 pandas==1.3.4\n",
    "```"
   ]
  },
  {
   "cell_type": "code",
   "execution_count": 24,
   "id": "5101e36c-d1da-4020-9ffa-1dbf56082699",
   "metadata": {},
   "outputs": [],
   "source": [
    "from kafka import KafkaProducer\n",
    "from kafka import KafkaConsumer\n",
    "from kafka.client_async import KafkaClient\n",
    "from kafka.admin import KafkaAdminClient, NewTopic\n",
    "from kafka import TopicPartition\n",
    "\n",
    "import json\n",
    "import msgpack"
   ]
  },
  {
   "cell_type": "markdown",
   "id": "5fdfd1ea-e7e8-4283-a241-011f9a91efd4",
   "metadata": {},
   "source": [
    "### Kafka Broker 정보 확인\n",
    "\n",
    "Docker Compose 환경을 가정합니다. (로컬 환경 내 Kafka Broker 및 Zookeeper 실행)"
   ]
  },
  {
   "cell_type": "code",
   "execution_count": 6,
   "id": "e750c7fd-53f4-4adb-bad4-34c2eb2c5f35",
   "metadata": {},
   "outputs": [],
   "source": [
    "zookeeper_servers = [\"127.0.0.1:2181\"]\n",
    "bootstrap_servers = [\"127.0.0.1:9092\"]"
   ]
  },
  {
   "cell_type": "markdown",
   "id": "178d3a0c-6541-445b-a0fa-f6df8d640f4c",
   "metadata": {},
   "source": [
    "### Kafka Python API 사용\n",
    "\n",
    "[kafka-python](https://kafka-python.readthedocs.io/en/master/index.html) API 를 사용합니다.  \n",
    "[confluent-kafka-python](https://github.com/confluentinc/confluent-kafka-python) 을 사용할 수도 있습니다."
   ]
  },
  {
   "cell_type": "code",
   "execution_count": 7,
   "id": "48b451dd-a5ba-4553-a956-68754f80dba8",
   "metadata": {},
   "outputs": [
    {
     "data": {
      "text/plain": [
       "{BrokerMetadata(nodeId='bootstrap-0', host='127.0.0.1', port=9092, rack=None)}"
      ]
     },
     "execution_count": 7,
     "metadata": {},
     "output_type": "execute_result"
    }
   ],
   "source": [
    "client = KafkaClient(bootstrap_servers=bootstrap_servers)\n",
    "client.cluster.brokers()"
   ]
  },
  {
   "cell_type": "code",
   "execution_count": 29,
   "id": "21f4f0fa-fe63-470b-af37-4911b10245b1",
   "metadata": {},
   "outputs": [],
   "source": [
    "admin = KafkaAdminClient(bootstrap_servers=bootstrap_servers)"
   ]
  },
  {
   "cell_type": "code",
   "execution_count": 30,
   "id": "3fab865a-d198-4298-bf8d-b1f3e572b137",
   "metadata": {},
   "outputs": [
    {
     "data": {
      "text/plain": [
       "[('schema-registry', 'sr')]"
      ]
     },
     "execution_count": 30,
     "metadata": {},
     "output_type": "execute_result"
    }
   ],
   "source": [
    "admin.list_consumer_groups()"
   ]
  },
  {
   "cell_type": "markdown",
   "id": "872bdf05-3d12-4cfa-b490-b8100dc388c2",
   "metadata": {},
   "source": [
    "### Topic 생성\n",
    "\n",
    "Kafka Partition 을 생성합니다. 일반적으로는 Kafka 관리자가 요청을 받아 UI 나 Console 에서 직접 생성할 수 있습니다.  \n",
    "API 를 이용해 생성하는 경우는 많지 않으나, 이 노트북에선 실습을 위해 API 를 통해 생성하는 예제를 사용합니다."
   ]
  },
  {
   "cell_type": "code",
   "execution_count": 27,
   "id": "986e0139-e3aa-4a80-8411-27c4793aa189",
   "metadata": {},
   "outputs": [
    {
     "data": {
      "text/plain": [
       "CreateTopicsResponse_v3(throttle_time_ms=0, topic_errors=[(topic='airbnb_listing_test', error_code=0, error_message=None)])"
      ]
     },
     "execution_count": 27,
     "metadata": {},
     "output_type": "execute_result"
    }
   ],
   "source": [
    "# replication = 1, partition = 1 의 \"airbnb_listing_test\" 라는 토픽을 생성합니다.\n",
    "topicAirbnbListing = \"airbnb_listing_test\"\n",
    "admin.create_topics([NewTopic(airbnb_listing_test, 1, 1)])"
   ]
  },
  {
   "cell_type": "code",
   "execution_count": 28,
   "id": "1f31c624-396d-4e86-b3b9-c01a4cbcc300",
   "metadata": {},
   "outputs": [
    {
     "data": {
      "text/plain": [
       "['airbnb_listing_test', 'test-topic', '_schemas', '__consumer_offsets']"
      ]
     },
     "execution_count": 28,
     "metadata": {},
     "output_type": "execute_result"
    }
   ],
   "source": [
    "admin.list_topics()"
   ]
  },
  {
   "cell_type": "markdown",
   "id": "4aecb575-9e5c-451f-9fa5-3a3e17b84258",
   "metadata": {},
   "source": [
    "### Kafka Producer 를 이용해 데이터 전송\n",
    "\n",
    "kafka-python API 를 이용해 데이터를 Broker 로 전송합니다.  \n",
    "일반적으로는 Java / Scala 언어로 이루어진 개발한 Producer 나 Kafka Connect 등을 이용합니다.  \n",
    "\n",
    "다만 이 노트북에선 실습으로 Python API 를 이용하기 위해 Pandas 로 CSV 파일을 읽어 Python Kafka API 로 전송합니다."
   ]
  },
  {
   "cell_type": "code",
   "execution_count": 53,
   "id": "13f7f91f-d3fc-4461-9fd9-c03e19ada426",
   "metadata": {},
   "outputs": [],
   "source": [
    "producer = KafkaProducer(bootstrap_servers=bootstrap_servers)"
   ]
  },
  {
   "cell_type": "code",
   "execution_count": 36,
   "id": "dba0945a-4a70-4b7c-91bd-d1e2624778c5",
   "metadata": {},
   "outputs": [],
   "source": [
    "DATASET_ROOT = \"/Users/kun/github/1ambda/practical-data-pipeline-code\"\n",
    "DATASET_AIRBNB_LISTING = f\"{DATASET_ROOT}/_datasets/airbnb/airbnb_listings.csv\""
   ]
  },
  {
   "cell_type": "code",
   "execution_count": 38,
   "id": "901c06ea-79e6-4008-bdbc-ad1ae07f6404",
   "metadata": {},
   "outputs": [],
   "source": [
    "import pandas as pd\n",
    "pdfAirbnbListnig = pd.read_csv(DATASET_AIRBNB_LISTING)"
   ]
  },
  {
   "cell_type": "code",
   "execution_count": 40,
   "id": "538434ac-1aad-4081-8d37-3567beaf9668",
   "metadata": {},
   "outputs": [
    {
     "data": {
      "text/html": [
       "<div>\n",
       "<style scoped>\n",
       "    .dataframe tbody tr th:only-of-type {\n",
       "        vertical-align: middle;\n",
       "    }\n",
       "\n",
       "    .dataframe tbody tr th {\n",
       "        vertical-align: top;\n",
       "    }\n",
       "\n",
       "    .dataframe thead th {\n",
       "        text-align: right;\n",
       "    }\n",
       "</style>\n",
       "<table border=\"1\" class=\"dataframe\">\n",
       "  <thead>\n",
       "    <tr style=\"text-align: right;\">\n",
       "      <th></th>\n",
       "      <th>id</th>\n",
       "      <th>listing_url</th>\n",
       "      <th>scrape_id</th>\n",
       "      <th>last_scraped</th>\n",
       "      <th>name</th>\n",
       "      <th>summary</th>\n",
       "      <th>space</th>\n",
       "      <th>description</th>\n",
       "      <th>experiences_offered</th>\n",
       "      <th>neighborhood_overview</th>\n",
       "      <th>...</th>\n",
       "      <th>instant_bookable</th>\n",
       "      <th>is_business_travel_ready</th>\n",
       "      <th>cancellation_policy</th>\n",
       "      <th>require_guest_profile_picture</th>\n",
       "      <th>require_guest_phone_verification</th>\n",
       "      <th>calculated_host_listings_count</th>\n",
       "      <th>calculated_host_listings_count_entire_homes</th>\n",
       "      <th>calculated_host_listings_count_private_rooms</th>\n",
       "      <th>calculated_host_listings_count_shared_rooms</th>\n",
       "      <th>reviews_per_month</th>\n",
       "    </tr>\n",
       "  </thead>\n",
       "  <tbody>\n",
       "    <tr>\n",
       "      <th>0</th>\n",
       "      <td>360</td>\n",
       "      <td>https://www.airbnb.com/rooms/360</td>\n",
       "      <td>20191129210509</td>\n",
       "      <td>2019-11-30</td>\n",
       "      <td>LoHi Secret garden at the Chickadee Cottage</td>\n",
       "      <td>Come enjoy our oasis is the city and stay at o...</td>\n",
       "      <td>Chickadee Cottage is the largest of our guest ...</td>\n",
       "      <td>Come enjoy our oasis is the city and stay at o...</td>\n",
       "      <td>none</td>\n",
       "      <td>those who are interested in our local brews - ...</td>\n",
       "      <td>...</td>\n",
       "      <td>t</td>\n",
       "      <td>f</td>\n",
       "      <td>moderate</td>\n",
       "      <td>t</td>\n",
       "      <td>t</td>\n",
       "      <td>2</td>\n",
       "      <td>2</td>\n",
       "      <td>0</td>\n",
       "      <td>0</td>\n",
       "      <td>6.00</td>\n",
       "    </tr>\n",
       "    <tr>\n",
       "      <th>1</th>\n",
       "      <td>590</td>\n",
       "      <td>https://www.airbnb.com/rooms/590</td>\n",
       "      <td>20191129210509</td>\n",
       "      <td>2019-11-30</td>\n",
       "      <td>Comfortable  - and a great value!</td>\n",
       "      <td>Large guest room in my home, where I also live...</td>\n",
       "      <td>I have been enjoying welcoming many wonderful ...</td>\n",
       "      <td>Large guest room in my home, where I also live...</td>\n",
       "      <td>none</td>\n",
       "      <td>I love the diversity of my neighborhood and it...</td>\n",
       "      <td>...</td>\n",
       "      <td>f</td>\n",
       "      <td>f</td>\n",
       "      <td>flexible</td>\n",
       "      <td>f</td>\n",
       "      <td>f</td>\n",
       "      <td>2</td>\n",
       "      <td>0</td>\n",
       "      <td>2</td>\n",
       "      <td>0</td>\n",
       "      <td>4.53</td>\n",
       "    </tr>\n",
       "  </tbody>\n",
       "</table>\n",
       "<p>2 rows × 106 columns</p>\n",
       "</div>"
      ],
      "text/plain": [
       "    id                       listing_url       scrape_id last_scraped  \\\n",
       "0  360  https://www.airbnb.com/rooms/360  20191129210509   2019-11-30   \n",
       "1  590  https://www.airbnb.com/rooms/590  20191129210509   2019-11-30   \n",
       "\n",
       "                                          name  \\\n",
       "0  LoHi Secret garden at the Chickadee Cottage   \n",
       "1            Comfortable  - and a great value!   \n",
       "\n",
       "                                             summary  \\\n",
       "0  Come enjoy our oasis is the city and stay at o...   \n",
       "1  Large guest room in my home, where I also live...   \n",
       "\n",
       "                                               space  \\\n",
       "0  Chickadee Cottage is the largest of our guest ...   \n",
       "1  I have been enjoying welcoming many wonderful ...   \n",
       "\n",
       "                                         description experiences_offered  \\\n",
       "0  Come enjoy our oasis is the city and stay at o...                none   \n",
       "1  Large guest room in my home, where I also live...                none   \n",
       "\n",
       "                               neighborhood_overview  ... instant_bookable  \\\n",
       "0  those who are interested in our local brews - ...  ...                t   \n",
       "1  I love the diversity of my neighborhood and it...  ...                f   \n",
       "\n",
       "  is_business_travel_ready cancellation_policy require_guest_profile_picture  \\\n",
       "0                        f            moderate                             t   \n",
       "1                        f            flexible                             f   \n",
       "\n",
       "  require_guest_phone_verification  calculated_host_listings_count  \\\n",
       "0                                t                               2   \n",
       "1                                f                               2   \n",
       "\n",
       "   calculated_host_listings_count_entire_homes  \\\n",
       "0                                            2   \n",
       "1                                            0   \n",
       "\n",
       "  calculated_host_listings_count_private_rooms  \\\n",
       "0                                            0   \n",
       "1                                            2   \n",
       "\n",
       "   calculated_host_listings_count_shared_rooms  reviews_per_month  \n",
       "0                                            0               6.00  \n",
       "1                                            0               4.53  \n",
       "\n",
       "[2 rows x 106 columns]"
      ]
     },
     "execution_count": 40,
     "metadata": {},
     "output_type": "execute_result"
    }
   ],
   "source": [
    "pdfAirbnbListnig.head(2)"
   ]
  },
  {
   "cell_type": "code",
   "execution_count": 60,
   "id": "561ce6c6-871f-40b6-a204-a4e4dc4d79c7",
   "metadata": {},
   "outputs": [],
   "source": [
    "# Pandas Row 는 Tuple 입니다. 이를 Dict 로 바꾸기 위해 to_dict 함수를 호출해\n",
    "# 전달 받은 Row (Dict) 를 Kafka Producer 를 이용해 Topic 으로 보냅니다.\n",
    "\n",
    "for row in pdfAirbnbListnig.head(1).to_dict(orient=\"records\"):\n",
    "    producer.send(topicAirbnbListing, bytes(str(row), 'utf-8'))"
   ]
  },
  {
   "cell_type": "markdown",
   "id": "21cf3cc4-1739-4a4a-8a57-3cb816c25ff3",
   "metadata": {},
   "source": [
    "### Console Consumer 로 데이터 읽기\n",
    "\n",
    "이제 Broker 에 접근해 Console Consumer 로 해당 토픽 데이터를 읽어봅니다. 컨테이너에 들어가 다음 커맨드를 실행할 수 있습니다.  \n",
    "\n",
    "```\n",
    "kafka-console-consumer --bootstrap-server broker:9092 --topic airbnb_listing_test --from-beginning\n",
    "```"
   ]
  },
  {
   "cell_type": "code",
   "execution_count": null,
   "id": "2c4b7053-8fb6-4ece-a610-28b2875dc80b",
   "metadata": {},
   "outputs": [],
   "source": []
  }
 ],
 "metadata": {
  "kernelspec": {
   "display_name": "pyspark",
   "language": "python",
   "name": "pyspark"
  },
  "language_info": {
   "codemirror_mode": {
    "name": "ipython",
    "version": 3
   },
   "file_extension": ".py",
   "mimetype": "text/x-python",
   "name": "python",
   "nbconvert_exporter": "python",
   "pygments_lexer": "ipython3",
   "version": "3.8.10"
  }
 },
 "nbformat": 4,
 "nbformat_minor": 5
}
