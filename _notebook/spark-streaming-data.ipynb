{
 "cells": [
  {
   "cell_type": "markdown",
   "id": "3e86a47a-7483-47e1-9f60-de4b44061b55",
   "metadata": {},
   "source": [
    "## Spark Streaming 을 위한 데이터 준비\n",
    "\n",
    "로컬 Docker 환경 내 Kafka Broker 와 Zookeeper 를 가정합니다.\n",
    "\n",
    "https://github.com/1ambda/practical-data-pipeline-code 레포지토리 루트에서 아래 커맨드를 이용할 수 있습니다.\n",
    "\n",
    "```bash\n",
    "make compose.clean compose.storage-all\n",
    "```\n",
    "\n",
    "만약 Kafka Python Library 가 깔려있지 않을 경우 아래와 같이 Pyenv 환경 내에서 설치할 수 있습니다.\n",
    "\n",
    "```bash\n",
    "pyenv activate {PYENV_NAME} # 본인이 생성한 Pyenv 이름 설정\n",
    "pip install kafka-python==2.0.2\n",
    "pip install msgpack==1.0.3\n",
    "```"
   ]
  },
  {
   "cell_type": "code",
   "execution_count": 4,
   "id": "5101e36c-d1da-4020-9ffa-1dbf56082699",
   "metadata": {},
   "outputs": [],
   "source": [
    "from kafka import KafkaProducer\n",
    "from kafka import KafkaConsumer\n",
    "from kafka.client_async import KafkaClient\n",
    "from kafka.admin import KafkaAdminClient, NewTopic\n",
    "from kafka import TopicPartition\n",
    "\n",
    "import json\n",
    "import msgpack"
   ]
  },
  {
   "cell_type": "code",
   "execution_count": 11,
   "id": "e750c7fd-53f4-4adb-bad4-34c2eb2c5f35",
   "metadata": {},
   "outputs": [],
   "source": [
    "zookeeper_servers = [\"127.0.0.1:2181\"]\n",
    "bootstrap_servers = [\"127.0.0.1:9092\"]"
   ]
  },
  {
   "cell_type": "markdown",
   "id": "872bdf05-3d12-4cfa-b490-b8100dc388c2",
   "metadata": {},
   "source": [
    "### Topic 생성\n",
    "\n",
    "Kafka Partition 을 생성합니다. 일반적으로는 Kafka 관리자가 요청을 받아 UI 나 Console 에서 직접 생성할 수 있습니다.  \n",
    "API 를 이용해 생성하는 경우는 많지 않으나, 이 노트북에선 실습을 위해 API 를 통해 생성하는 예제를 사용합니다."
   ]
  },
  {
   "cell_type": "code",
   "execution_count": 12,
   "id": "ef4be90d-e489-4da7-be95-e88987028cfe",
   "metadata": {},
   "outputs": [],
   "source": [
    "admin = KafkaAdminClient(bootstrap_servers=bootstrap_servers)"
   ]
  },
  {
   "cell_type": "code",
   "execution_count": 13,
   "id": "986e0139-e3aa-4a80-8411-27c4793aa189",
   "metadata": {},
   "outputs": [
    {
     "ename": "TopicAlreadyExistsError",
     "evalue": "[Error 36] TopicAlreadyExistsError: Request 'CreateTopicsRequest_v3(create_topic_requests=[(topic='airbnb-listing-test', num_partitions=3, replication_factor=1, replica_assignment=[], configs=[])], timeout=30000, validate_only=False)' failed with response 'CreateTopicsResponse_v3(throttle_time_ms=0, topic_errors=[(topic='airbnb-listing-test', error_code=36, error_message=\"Topic 'airbnb-listing-test' already exists.\")])'.",
     "output_type": "error",
     "traceback": [
      "\u001b[0;31m---------------------------------------------------------------------------\u001b[0m",
      "\u001b[0;31mTopicAlreadyExistsError\u001b[0m                   Traceback (most recent call last)",
      "Input \u001b[0;32mIn [13]\u001b[0m, in \u001b[0;36m<module>\u001b[0;34m\u001b[0m\n\u001b[1;32m      1\u001b[0m \u001b[38;5;66;03m# partition = 3, replication = 1 설정을 가진 토픽을 생성합니다.\u001b[39;00m\n\u001b[1;32m      2\u001b[0m topicAirbnbListing \u001b[38;5;241m=\u001b[39m \u001b[38;5;124m\"\u001b[39m\u001b[38;5;124mairbnb-listing-test\u001b[39m\u001b[38;5;124m\"\u001b[39m\n\u001b[0;32m----> 3\u001b[0m \u001b[43madmin\u001b[49m\u001b[38;5;241;43m.\u001b[39;49m\u001b[43mcreate_topics\u001b[49m\u001b[43m(\u001b[49m\u001b[43m[\u001b[49m\u001b[43mNewTopic\u001b[49m\u001b[43m(\u001b[49m\u001b[43mtopicAirbnbListing\u001b[49m\u001b[43m,\u001b[49m\u001b[43m \u001b[49m\u001b[38;5;241;43m3\u001b[39;49m\u001b[43m,\u001b[49m\u001b[43m \u001b[49m\u001b[38;5;241;43m1\u001b[39;49m\u001b[43m)\u001b[49m\u001b[43m]\u001b[49m\u001b[43m)\u001b[49m\n",
      "File \u001b[0;32m~/.pyenv/versions/pyspark/lib/python3.8/site-packages/kafka/admin/client.py:461\u001b[0m, in \u001b[0;36mKafkaAdminClient.create_topics\u001b[0;34m(self, new_topics, timeout_ms, validate_only)\u001b[0m\n\u001b[1;32m    456\u001b[0m     \u001b[38;5;28;01mraise\u001b[39;00m \u001b[38;5;167;01mNotImplementedError\u001b[39;00m(\n\u001b[1;32m    457\u001b[0m         \u001b[38;5;124m\"\u001b[39m\u001b[38;5;124mSupport for CreateTopics v\u001b[39m\u001b[38;5;132;01m{}\u001b[39;00m\u001b[38;5;124m has not yet been added to KafkaAdminClient.\u001b[39m\u001b[38;5;124m\"\u001b[39m\n\u001b[1;32m    458\u001b[0m         \u001b[38;5;241m.\u001b[39mformat(version))\n\u001b[1;32m    459\u001b[0m \u001b[38;5;66;03m# TODO convert structs to a more pythonic interface\u001b[39;00m\n\u001b[1;32m    460\u001b[0m \u001b[38;5;66;03m# TODO raise exceptions if errors\u001b[39;00m\n\u001b[0;32m--> 461\u001b[0m \u001b[38;5;28;01mreturn\u001b[39;00m \u001b[38;5;28;43mself\u001b[39;49m\u001b[38;5;241;43m.\u001b[39;49m\u001b[43m_send_request_to_controller\u001b[49m\u001b[43m(\u001b[49m\u001b[43mrequest\u001b[49m\u001b[43m)\u001b[49m\n",
      "File \u001b[0;32m~/.pyenv/versions/pyspark/lib/python3.8/site-packages/kafka/admin/client.py:407\u001b[0m, in \u001b[0;36mKafkaAdminClient._send_request_to_controller\u001b[0;34m(self, request)\u001b[0m\n\u001b[1;32m    405\u001b[0m         \u001b[38;5;28;01mbreak\u001b[39;00m\n\u001b[1;32m    406\u001b[0m     \u001b[38;5;28;01melif\u001b[39;00m error_type \u001b[38;5;129;01mis\u001b[39;00m \u001b[38;5;129;01mnot\u001b[39;00m Errors\u001b[38;5;241m.\u001b[39mNoError:\n\u001b[0;32m--> 407\u001b[0m         \u001b[38;5;28;01mraise\u001b[39;00m error_type(\n\u001b[1;32m    408\u001b[0m             \u001b[38;5;124m\"\u001b[39m\u001b[38;5;124mRequest \u001b[39m\u001b[38;5;124m'\u001b[39m\u001b[38;5;132;01m{}\u001b[39;00m\u001b[38;5;124m'\u001b[39m\u001b[38;5;124m failed with response \u001b[39m\u001b[38;5;124m'\u001b[39m\u001b[38;5;132;01m{}\u001b[39;00m\u001b[38;5;124m'\u001b[39m\u001b[38;5;124m.\u001b[39m\u001b[38;5;124m\"\u001b[39m\n\u001b[1;32m    409\u001b[0m             \u001b[38;5;241m.\u001b[39mformat(request, response))\n\u001b[1;32m    410\u001b[0m \u001b[38;5;28;01melse\u001b[39;00m:\n\u001b[1;32m    411\u001b[0m     \u001b[38;5;28;01mreturn\u001b[39;00m response\n",
      "\u001b[0;31mTopicAlreadyExistsError\u001b[0m: [Error 36] TopicAlreadyExistsError: Request 'CreateTopicsRequest_v3(create_topic_requests=[(topic='airbnb-listing-test', num_partitions=3, replication_factor=1, replica_assignment=[], configs=[])], timeout=30000, validate_only=False)' failed with response 'CreateTopicsResponse_v3(throttle_time_ms=0, topic_errors=[(topic='airbnb-listing-test', error_code=36, error_message=\"Topic 'airbnb-listing-test' already exists.\")])'."
     ]
    }
   ],
   "source": [
    "# partition = 3, replication = 1 설정을 가진 토픽을 생성합니다.\n",
    "topicAirbnbListing = \"airbnb-listing-test\"\n",
    "admin.create_topics([NewTopic(topicAirbnbListing, 3, 1)])"
   ]
  },
  {
   "cell_type": "code",
   "execution_count": 14,
   "id": "1f31c624-396d-4e86-b3b9-c01a4cbcc300",
   "metadata": {},
   "outputs": [
    {
     "data": {
      "text/plain": [
       "['_schemas', 'airbnb-listing-test', '__consumer_offsets']"
      ]
     },
     "execution_count": 14,
     "metadata": {},
     "output_type": "execute_result"
    }
   ],
   "source": [
    "admin.list_topics()"
   ]
  },
  {
   "cell_type": "markdown",
   "id": "4aecb575-9e5c-451f-9fa5-3a3e17b84258",
   "metadata": {},
   "source": [
    "### Kafka Producer 를 이용해 데이터 전송\n",
    "\n",
    "kafka-python API 를 이용해 데이터를 Broker 로 전송합니다.  \n",
    "일반적으로는 Java / Scala 언어로 이루어진 개발한 Producer 나 Kafka Connect 등을 이용합니다.  \n",
    "\n",
    "다만 이 노트북에선 실습으로 Python API 를 이용하기 위해 Pandas 로 CSV 파일을 읽어 Python Kafka API 로 전송합니다."
   ]
  },
  {
   "cell_type": "code",
   "execution_count": 15,
   "id": "13f7f91f-d3fc-4461-9fd9-c03e19ada426",
   "metadata": {},
   "outputs": [],
   "source": [
    "producer = KafkaProducer(bootstrap_servers=bootstrap_servers)"
   ]
  },
  {
   "cell_type": "code",
   "execution_count": 18,
   "id": "dba0945a-4a70-4b7c-91bd-d1e2624778c5",
   "metadata": {},
   "outputs": [],
   "source": [
    "DATASET_ROOT = \"/Users/hoon.park/github/1ambda/practical-data-pipeline-code\"\n",
    "DATASET_AIRBNB_LISTING = f\"{DATASET_ROOT}/_datasets/airbnb/airbnb_listings.csv\""
   ]
  },
  {
   "cell_type": "code",
   "execution_count": 19,
   "id": "901c06ea-79e6-4008-bdbc-ad1ae07f6404",
   "metadata": {},
   "outputs": [],
   "source": [
    "import pandas as pd\n",
    "pdfAirbnbListnig = pd.read_csv(DATASET_AIRBNB_LISTING)"
   ]
  },
  {
   "cell_type": "code",
   "execution_count": 20,
   "id": "538434ac-1aad-4081-8d37-3567beaf9668",
   "metadata": {},
   "outputs": [
    {
     "data": {
      "text/html": [
       "<div>\n",
       "<style scoped>\n",
       "    .dataframe tbody tr th:only-of-type {\n",
       "        vertical-align: middle;\n",
       "    }\n",
       "\n",
       "    .dataframe tbody tr th {\n",
       "        vertical-align: top;\n",
       "    }\n",
       "\n",
       "    .dataframe thead th {\n",
       "        text-align: right;\n",
       "    }\n",
       "</style>\n",
       "<table border=\"1\" class=\"dataframe\">\n",
       "  <thead>\n",
       "    <tr style=\"text-align: right;\">\n",
       "      <th></th>\n",
       "      <th>id</th>\n",
       "      <th>listing_url</th>\n",
       "      <th>scrape_id</th>\n",
       "      <th>last_scraped</th>\n",
       "      <th>name</th>\n",
       "      <th>summary</th>\n",
       "      <th>space</th>\n",
       "      <th>description</th>\n",
       "      <th>experiences_offered</th>\n",
       "      <th>neighborhood_overview</th>\n",
       "      <th>...</th>\n",
       "      <th>instant_bookable</th>\n",
       "      <th>is_business_travel_ready</th>\n",
       "      <th>cancellation_policy</th>\n",
       "      <th>require_guest_profile_picture</th>\n",
       "      <th>require_guest_phone_verification</th>\n",
       "      <th>calculated_host_listings_count</th>\n",
       "      <th>calculated_host_listings_count_entire_homes</th>\n",
       "      <th>calculated_host_listings_count_private_rooms</th>\n",
       "      <th>calculated_host_listings_count_shared_rooms</th>\n",
       "      <th>reviews_per_month</th>\n",
       "    </tr>\n",
       "  </thead>\n",
       "  <tbody>\n",
       "    <tr>\n",
       "      <th>0</th>\n",
       "      <td>360</td>\n",
       "      <td>https://www.airbnb.com/rooms/360</td>\n",
       "      <td>20191129210509</td>\n",
       "      <td>2019-11-30</td>\n",
       "      <td>LoHi Secret garden at the Chickadee Cottage</td>\n",
       "      <td>Come enjoy our oasis is the city and stay at o...</td>\n",
       "      <td>Chickadee Cottage is the largest of our guest ...</td>\n",
       "      <td>Come enjoy our oasis is the city and stay at o...</td>\n",
       "      <td>none</td>\n",
       "      <td>those who are interested in our local brews - ...</td>\n",
       "      <td>...</td>\n",
       "      <td>t</td>\n",
       "      <td>f</td>\n",
       "      <td>moderate</td>\n",
       "      <td>t</td>\n",
       "      <td>t</td>\n",
       "      <td>2</td>\n",
       "      <td>2</td>\n",
       "      <td>0</td>\n",
       "      <td>0</td>\n",
       "      <td>6.00</td>\n",
       "    </tr>\n",
       "    <tr>\n",
       "      <th>1</th>\n",
       "      <td>590</td>\n",
       "      <td>https://www.airbnb.com/rooms/590</td>\n",
       "      <td>20191129210509</td>\n",
       "      <td>2019-11-30</td>\n",
       "      <td>Comfortable  - and a great value!</td>\n",
       "      <td>Large guest room in my home, where I also live...</td>\n",
       "      <td>I have been enjoying welcoming many wonderful ...</td>\n",
       "      <td>Large guest room in my home, where I also live...</td>\n",
       "      <td>none</td>\n",
       "      <td>I love the diversity of my neighborhood and it...</td>\n",
       "      <td>...</td>\n",
       "      <td>f</td>\n",
       "      <td>f</td>\n",
       "      <td>flexible</td>\n",
       "      <td>f</td>\n",
       "      <td>f</td>\n",
       "      <td>2</td>\n",
       "      <td>0</td>\n",
       "      <td>2</td>\n",
       "      <td>0</td>\n",
       "      <td>4.53</td>\n",
       "    </tr>\n",
       "  </tbody>\n",
       "</table>\n",
       "<p>2 rows × 106 columns</p>\n",
       "</div>"
      ],
      "text/plain": [
       "    id                       listing_url       scrape_id last_scraped  \\\n",
       "0  360  https://www.airbnb.com/rooms/360  20191129210509   2019-11-30   \n",
       "1  590  https://www.airbnb.com/rooms/590  20191129210509   2019-11-30   \n",
       "\n",
       "                                          name  \\\n",
       "0  LoHi Secret garden at the Chickadee Cottage   \n",
       "1            Comfortable  - and a great value!   \n",
       "\n",
       "                                             summary  \\\n",
       "0  Come enjoy our oasis is the city and stay at o...   \n",
       "1  Large guest room in my home, where I also live...   \n",
       "\n",
       "                                               space  \\\n",
       "0  Chickadee Cottage is the largest of our guest ...   \n",
       "1  I have been enjoying welcoming many wonderful ...   \n",
       "\n",
       "                                         description experiences_offered  \\\n",
       "0  Come enjoy our oasis is the city and stay at o...                none   \n",
       "1  Large guest room in my home, where I also live...                none   \n",
       "\n",
       "                               neighborhood_overview  ... instant_bookable  \\\n",
       "0  those who are interested in our local brews - ...  ...                t   \n",
       "1  I love the diversity of my neighborhood and it...  ...                f   \n",
       "\n",
       "  is_business_travel_ready cancellation_policy require_guest_profile_picture  \\\n",
       "0                        f            moderate                             t   \n",
       "1                        f            flexible                             f   \n",
       "\n",
       "  require_guest_phone_verification  calculated_host_listings_count  \\\n",
       "0                                t                               2   \n",
       "1                                f                               2   \n",
       "\n",
       "   calculated_host_listings_count_entire_homes  \\\n",
       "0                                            2   \n",
       "1                                            0   \n",
       "\n",
       "  calculated_host_listings_count_private_rooms  \\\n",
       "0                                            0   \n",
       "1                                            2   \n",
       "\n",
       "   calculated_host_listings_count_shared_rooms  reviews_per_month  \n",
       "0                                            0               6.00  \n",
       "1                                            0               4.53  \n",
       "\n",
       "[2 rows x 106 columns]"
      ]
     },
     "execution_count": 20,
     "metadata": {},
     "output_type": "execute_result"
    }
   ],
   "source": [
    "pdfAirbnbListnig.head(2)"
   ]
  },
  {
   "cell_type": "code",
   "execution_count": 21,
   "id": "561ce6c6-871f-40b6-a204-a4e4dc4d79c7",
   "metadata": {},
   "outputs": [],
   "source": [
    "# Pandas Row 는 Tuple 입니다. 이를 Dict 로 바꾸기 위해 to_dict 함수를 호출해\n",
    "# 전달 받은 Row (Dict) 를 Kafka Producer 를 이용해 Topic 으로 보냅니다.\n",
    "\n",
    "for row in pdfAirbnbListnig.head(2).to_dict(orient=\"records\"):\n",
    "    producer.send(topicAirbnbListing, bytes(str(row), 'utf-8'))"
   ]
  },
  {
   "cell_type": "markdown",
   "id": "21cf3cc4-1739-4a4a-8a57-3cb816c25ff3",
   "metadata": {},
   "source": [
    "### Console Consumer 로 데이터 읽기\n",
    "\n",
    "\n",
    "이제 Broker 에 접근해 Console Consumer 로 해당 토픽 데이터를 읽어봅니다. 컨테이너에 들어가 다음 커맨드를 실행할 수 있습니다.  \n",
    "\n",
    "```\n",
    "# 터미널에서 도커로 로그인하기 위해 `docker exec -it broker /bin/bash`\n",
    "\n",
    "kafka-console-consumer --bootstrap-server broker:9092 --topic airbnb-listing-test --from-beginning\n",
    "```"
   ]
  },
  {
   "cell_type": "code",
   "execution_count": null,
   "id": "2c4b7053-8fb6-4ece-a610-28b2875dc80b",
   "metadata": {},
   "outputs": [],
   "source": []
  }
 ],
 "metadata": {
  "kernelspec": {
   "display_name": "pyspark",
   "language": "python",
   "name": "pyspark"
  },
  "language_info": {
   "codemirror_mode": {
    "name": "ipython",
    "version": 3
   },
   "file_extension": ".py",
   "mimetype": "text/x-python",
   "name": "python",
   "nbconvert_exporter": "python",
   "pygments_lexer": "ipython3",
   "version": "3.8.12"
  }
 },
 "nbformat": 4,
 "nbformat_minor": 5
}
